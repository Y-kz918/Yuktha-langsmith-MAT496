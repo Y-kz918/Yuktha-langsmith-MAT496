{
  "cells": [
    {
      "cell_type": "markdown",
      "metadata": {
        "id": "LBAKu7w4Rl_j"
      },
      "source": [
        "# Evaluators"
      ]
    },
    {
      "cell_type": "markdown",
      "metadata": {
        "id": "U-ziYD0aRl_k"
      },
      "source": [
        "At a high-level, an evaluator judges an invocation of your LLM application against a reference example, and returns an evaluation score.\n",
        "\n",
        "In LangSmith evaluators, we represent this process as a function that takes in a Run (representing the LLM app invocation) and an Example (representing the data point to evaluate), and returns Feedback (representing the evaluator's score of the LLM app invocation)."
      ]
    },
    {
      "cell_type": "markdown",
      "metadata": {
        "id": "bVBQg06cRl_k"
      },
      "source": [
        "![Evaluator](../../images/evaluator.png)"
      ]
    },
    {
      "cell_type": "markdown",
      "metadata": {
        "id": "tO_5GRYfRl_k"
      },
      "source": [
        "Here is an example of a very simple custom evaluator that compares the output of a model to the expected output in the dataset:"
      ]
    },
    {
      "cell_type": "markdown",
      "metadata": {
        "id": "puH1kN0YRl_l"
      },
      "source": [
        "### LLM-as-Judge Evaluation"
      ]
    },
    {
      "cell_type": "markdown",
      "metadata": {
        "id": "5UUG7P_wRl_l"
      },
      "source": [
        "LLM-as-judge evaluators use LLMs to score system output. To use them, you typically encode the grading rules / criteria in the LLM prompt. They can be reference-free (e.g., check if system output contains offensive content or adheres to specific criteria). Or, they can compare task output to a reference (e.g., check if the output is factually accurate relative to the reference).\n",
        "\n",
        "Here is an example of how you might define an LLM-as-judge evaluator with structured output"
      ]
    },
    {
      "cell_type": "markdown",
      "metadata": {
        "id": "ge188yLkRl_m"
      },
      "source": [
        "Let's try this out!\n",
        "\n",
        "NOTE: We purposely made this answer wrong, so we expect to see a low score."
      ]
    },
    {
      "cell_type": "code",
      "execution_count": 1,
      "metadata": {
        "colab": {
          "base_uri": "https://localhost:8080/"
        },
        "id": "LcTXMuCGSPC9",
        "outputId": "40f9f2e2-e8cd-494f-99e7-dbe093f474ce"
      },
      "outputs": [
        {
          "name": "stdout",
          "output_type": "stream",
          "text": [
            "Collecting groq\n",
            "  Downloading groq-0.32.0-py3-none-any.whl.metadata (16 kB)\n",
            "Requirement already satisfied: anyio<5,>=3.5.0 in /usr/local/lib/python3.12/dist-packages (from groq) (4.10.0)\n",
            "Requirement already satisfied: distro<2,>=1.7.0 in /usr/local/lib/python3.12/dist-packages (from groq) (1.9.0)\n",
            "Requirement already satisfied: httpx<1,>=0.23.0 in /usr/local/lib/python3.12/dist-packages (from groq) (0.28.1)\n",
            "Requirement already satisfied: pydantic<3,>=1.9.0 in /usr/local/lib/python3.12/dist-packages (from groq) (2.11.9)\n",
            "Requirement already satisfied: sniffio in /usr/local/lib/python3.12/dist-packages (from groq) (1.3.1)\n",
            "Requirement already satisfied: typing-extensions<5,>=4.10 in /usr/local/lib/python3.12/dist-packages (from groq) (4.15.0)\n",
            "Requirement already satisfied: idna>=2.8 in /usr/local/lib/python3.12/dist-packages (from anyio<5,>=3.5.0->groq) (3.10)\n",
            "Requirement already satisfied: certifi in /usr/local/lib/python3.12/dist-packages (from httpx<1,>=0.23.0->groq) (2025.8.3)\n",
            "Requirement already satisfied: httpcore==1.* in /usr/local/lib/python3.12/dist-packages (from httpx<1,>=0.23.0->groq) (1.0.9)\n",
            "Requirement already satisfied: h11>=0.16 in /usr/local/lib/python3.12/dist-packages (from httpcore==1.*->httpx<1,>=0.23.0->groq) (0.16.0)\n",
            "Requirement already satisfied: annotated-types>=0.6.0 in /usr/local/lib/python3.12/dist-packages (from pydantic<3,>=1.9.0->groq) (0.7.0)\n",
            "Requirement already satisfied: pydantic-core==2.33.2 in /usr/local/lib/python3.12/dist-packages (from pydantic<3,>=1.9.0->groq) (2.33.2)\n",
            "Requirement already satisfied: typing-inspection>=0.4.0 in /usr/local/lib/python3.12/dist-packages (from pydantic<3,>=1.9.0->groq) (0.4.1)\n",
            "Downloading groq-0.32.0-py3-none-any.whl (135 kB)\n",
            "\u001b[2K   \u001b[90m━━━━━━━━━━━━━━━━━━━━━━━━━━━━━━━━━━━━━━━━\u001b[0m \u001b[32m135.4/135.4 kB\u001b[0m \u001b[31m3.0 MB/s\u001b[0m eta \u001b[36m0:00:00\u001b[0m\n",
            "\u001b[?25hInstalling collected packages: groq\n",
            "Successfully installed groq-0.32.0\n"
          ]
        }
      ],
      "source": [
        "!pip install groq\n"
      ]
    },
    {
      "cell_type": "markdown",
      "metadata": {
        "id": "uPiNxWCSRl_m"
      },
      "source": [
        "You can also define evaluators using Run and Example directly!"
      ]
    },
    {
      "cell_type": "code",
      "execution_count": null,
      "metadata": {
        "colab": {
          "base_uri": "https://localhost:8080/"
        },
        "id": "OBy_wU2L5VGa",
        "outputId": "db3b7316-7ac2-44ab-e72c-42afa59c33e6"
      },
      "outputs": [
        {
          "name": "stdout",
          "output_type": "stream",
          "text": [
            "Semantic similarity score: {'score': 10, 'key': 'similarity'}\n"
          ]
        }
      ],
      "source": [
        "from langsmith.schemas import Example, Run\n",
        "from groq import Groq\n",
        "from pydantic import BaseModel, Field\n",
        "import os\n",
        "\n",
        "# Make sure your Groq API key is set\n",
        "os.environ[\"GROQ_API_KEY\"] = \"\"\n",
        "\n",
        "# Initialize Groq client\n",
        "groq_client = Groq(api_key=os.environ[\"GROQ_API_KEY\"])\n",
        "\n",
        "# ---------------------\n",
        "# Pydantic model for structured output\n",
        "# ---------------------\n",
        "class Similarity_Score(BaseModel):\n",
        "    similarity_score: int = Field(\n",
        "        description=\"Semantic similarity score between 1 and 10, where 1 = unrelated, 10 = identical.\"\n",
        "    )\n",
        "\n",
        "# ---------------------\n",
        "# LLM-as-Judge Evaluator (Groq)\n",
        "# ---------------------\n",
        "def compare_semantic_similarity(inputs: dict, reference_outputs: dict, outputs: dict):\n",
        "    input_question = inputs[\"question\"]\n",
        "    reference_response = reference_outputs[\"output\"]\n",
        "    run_response = outputs[\"output\"]\n",
        "\n",
        "    # Construct messages\n",
        "    messages = [\n",
        "        {\n",
        "            \"role\": \"system\",\n",
        "            \"content\": (\n",
        "                \"You are a semantic similarity evaluator. Compare the meanings of two responses to a question: \"\n",
        "                \"Reference Response and Run Response. The reference is correct, judge how similar the run response is. \"\n",
        "                \"Return ONLY an integer between 1 and 10.\"\n",
        "            ),\n",
        "        },\n",
        "        {\n",
        "            \"role\": \"user\",\n",
        "            \"content\": (\n",
        "                f\"Question: {input_question}\\n\"\n",
        "                f\"Reference Response: {reference_response}\\n\"\n",
        "                f\"Run Response: {run_response}\"\n",
        "            ),\n",
        "        },\n",
        "    ]\n",
        "\n",
        "    # Call Groq API\n",
        "    response = groq_client.chat.completions.create(\n",
        "        model=\"openai/gpt-oss-120b\",  # pick a Groq-supported model\n",
        "        messages=messages,\n",
        "    )\n",
        "\n",
        "    # Extract text output\n",
        "    output_text = response.choices[0].message.content.strip()\n",
        "\n",
        "\n",
        "    # Try to parse integer score\n",
        "    try:\n",
        "        similarity_score = int(output_text)\n",
        "    except ValueError:\n",
        "        similarity_score = 0  # fallback if model doesn’t return a number\n",
        "\n",
        "    return {\"score\": similarity_score, \"key\": \"similarity\"}\n",
        "\n",
        "\n",
        "# ---------------------\n",
        "# Test with your example\n",
        "# ---------------------\n",
        "inputs = {\n",
        "    \"question\": \"What is the capital of France?\"\n",
        "}\n",
        "reference_outputs = {\n",
        "    \"output\": \"The capital of France is Paris.\"\n",
        "}\n",
        "outputs = {\n",
        "    \"output\": \"Paris is the capital city of France.\"\n",
        "}\n",
        "\n",
        "\n",
        "\n",
        "\n",
        "similarity_score = compare_semantic_similarity(inputs, reference_outputs, outputs)\n",
        "print(f\"Semantic similarity score: {similarity_score}\")\n"
      ]
    },
    {
      "cell_type": "code",
      "execution_count": 32,
      "metadata": {
        "id": "rusr-Eto52SL"
      },
      "outputs": [],
      "source": []
    }
  ],
  "metadata": {
    "colab": {
      "provenance": []
    },
    "kernelspec": {
      "display_name": "ls-academy",
      "language": "python",
      "name": "python3"
    },
    "language_info": {
      "codemirror_mode": {
        "name": "ipython",
        "version": 3
      },
      "file_extension": ".py",
      "mimetype": "text/x-python",
      "name": "python",
      "nbconvert_exporter": "python",
      "pygments_lexer": "ipython3",
      "version": "3.9.6"
    }
  },
  "nbformat": 4,
  "nbformat_minor": 0
}
